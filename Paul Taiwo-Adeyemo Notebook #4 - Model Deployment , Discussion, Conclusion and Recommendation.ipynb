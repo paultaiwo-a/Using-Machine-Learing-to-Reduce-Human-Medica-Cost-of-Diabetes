{
 "cells": [
  {
   "cell_type": "markdown",
   "id": "6c59dfb4",
   "metadata": {},
   "source": [
    "### Capstone Project: Using Machine Learning to Reduce Human/Medical costs Associated with Diabetes."
   ]
  },
  {
   "cell_type": "markdown",
   "id": "632fb4ed",
   "metadata": {},
   "source": [
    "##### Paul Taiwo-Adeyemo, July 2022, BrainStation"
   ]
  },
  {
   "cell_type": "markdown",
   "id": "60e7f58d",
   "metadata": {},
   "source": [
    "##### Notebook #4: Model Deployment"
   ]
  },
  {
   "cell_type": "markdown",
   "id": "04987447",
   "metadata": {},
   "source": [
    "In this notebook the Logistic Regression Model from Dataset 2 would be deployed. This deployment would input lifestyle choices to predict the incidence of diabetes."
   ]
  },
  {
   "cell_type": "code",
   "execution_count": 6,
   "id": "eb0fdd19",
   "metadata": {},
   "outputs": [],
   "source": [
    "#import relevant packages\n",
    "import pickle\n",
    "import numpy as np\n",
    "import pandas as pd\n",
    "import matplotlib.pyplot as plt\n",
    "#import packages for Machine Learning\n",
    "from sklearn.model_selection import train_test_split\n",
    "from sklearn.decomposition import PCA\n",
    "# Ignore futurewarnings\n",
    "import warnings\n",
    "warnings.filterwarnings('ignore')\n",
    "#Import necessary packages\n",
    "from sklearn.linear_model import LogisticRegression\n",
    "from sklearn.preprocessing import MinMaxScaler\n"
   ]
  },
  {
   "cell_type": "code",
   "execution_count": 7,
   "id": "7dd007eb",
   "metadata": {},
   "outputs": [],
   "source": [
    "#load dataset\n",
    "dataset2_df = pd.read_csv('dataset2_cleaned.csv')"
   ]
  },
  {
   "cell_type": "code",
   "execution_count": 8,
   "id": "eec70adf",
   "metadata": {},
   "outputs": [],
   "source": [
    "#define X and Y\n",
    "X = dataset2_df.drop('Diabetes_binary', axis=1)\n",
    "Y = dataset2_df['Diabetes_binary']"
   ]
  },
  {
   "cell_type": "code",
   "execution_count": 9,
   "id": "10f2ee74",
   "metadata": {},
   "outputs": [],
   "source": [
    "#split into train and test \n",
    "X_train, X_test, y_train, y_test = train_test_split( X, Y, test_size=0.3, random_state=3)"
   ]
  },
  {
   "cell_type": "code",
   "execution_count": 10,
   "id": "9e0cfe4c",
   "metadata": {},
   "outputs": [],
   "source": [
    "#scale the data\n",
    "scaler = MinMaxScaler()\n",
    "scaler.fit(X_train)\n",
    "\n",
    "#fit data\n",
    "X_test_mmscalar = scaler.transform(X_test)\n",
    "X_train_mmscalar = scaler.transform(X_train)"
   ]
  },
  {
   "cell_type": "code",
   "execution_count": 11,
   "id": "24d05bf0",
   "metadata": {},
   "outputs": [
    {
     "data": {
      "text/html": [
       "<style>#sk-container-id-1 {color: black;background-color: white;}#sk-container-id-1 pre{padding: 0;}#sk-container-id-1 div.sk-toggleable {background-color: white;}#sk-container-id-1 label.sk-toggleable__label {cursor: pointer;display: block;width: 100%;margin-bottom: 0;padding: 0.3em;box-sizing: border-box;text-align: center;}#sk-container-id-1 label.sk-toggleable__label-arrow:before {content: \"▸\";float: left;margin-right: 0.25em;color: #696969;}#sk-container-id-1 label.sk-toggleable__label-arrow:hover:before {color: black;}#sk-container-id-1 div.sk-estimator:hover label.sk-toggleable__label-arrow:before {color: black;}#sk-container-id-1 div.sk-toggleable__content {max-height: 0;max-width: 0;overflow: hidden;text-align: left;background-color: #f0f8ff;}#sk-container-id-1 div.sk-toggleable__content pre {margin: 0.2em;color: black;border-radius: 0.25em;background-color: #f0f8ff;}#sk-container-id-1 input.sk-toggleable__control:checked~div.sk-toggleable__content {max-height: 200px;max-width: 100%;overflow: auto;}#sk-container-id-1 input.sk-toggleable__control:checked~label.sk-toggleable__label-arrow:before {content: \"▾\";}#sk-container-id-1 div.sk-estimator input.sk-toggleable__control:checked~label.sk-toggleable__label {background-color: #d4ebff;}#sk-container-id-1 div.sk-label input.sk-toggleable__control:checked~label.sk-toggleable__label {background-color: #d4ebff;}#sk-container-id-1 input.sk-hidden--visually {border: 0;clip: rect(1px 1px 1px 1px);clip: rect(1px, 1px, 1px, 1px);height: 1px;margin: -1px;overflow: hidden;padding: 0;position: absolute;width: 1px;}#sk-container-id-1 div.sk-estimator {font-family: monospace;background-color: #f0f8ff;border: 1px dotted black;border-radius: 0.25em;box-sizing: border-box;margin-bottom: 0.5em;}#sk-container-id-1 div.sk-estimator:hover {background-color: #d4ebff;}#sk-container-id-1 div.sk-parallel-item::after {content: \"\";width: 100%;border-bottom: 1px solid gray;flex-grow: 1;}#sk-container-id-1 div.sk-label:hover label.sk-toggleable__label {background-color: #d4ebff;}#sk-container-id-1 div.sk-serial::before {content: \"\";position: absolute;border-left: 1px solid gray;box-sizing: border-box;top: 0;bottom: 0;left: 50%;z-index: 0;}#sk-container-id-1 div.sk-serial {display: flex;flex-direction: column;align-items: center;background-color: white;padding-right: 0.2em;padding-left: 0.2em;position: relative;}#sk-container-id-1 div.sk-item {position: relative;z-index: 1;}#sk-container-id-1 div.sk-parallel {display: flex;align-items: stretch;justify-content: center;background-color: white;position: relative;}#sk-container-id-1 div.sk-item::before, #sk-container-id-1 div.sk-parallel-item::before {content: \"\";position: absolute;border-left: 1px solid gray;box-sizing: border-box;top: 0;bottom: 0;left: 50%;z-index: -1;}#sk-container-id-1 div.sk-parallel-item {display: flex;flex-direction: column;z-index: 1;position: relative;background-color: white;}#sk-container-id-1 div.sk-parallel-item:first-child::after {align-self: flex-end;width: 50%;}#sk-container-id-1 div.sk-parallel-item:last-child::after {align-self: flex-start;width: 50%;}#sk-container-id-1 div.sk-parallel-item:only-child::after {width: 0;}#sk-container-id-1 div.sk-dashed-wrapped {border: 1px dashed gray;margin: 0 0.4em 0.5em 0.4em;box-sizing: border-box;padding-bottom: 0.4em;background-color: white;}#sk-container-id-1 div.sk-label label {font-family: monospace;font-weight: bold;display: inline-block;line-height: 1.2em;}#sk-container-id-1 div.sk-label-container {text-align: center;}#sk-container-id-1 div.sk-container {/* jupyter's `normalize.less` sets `[hidden] { display: none; }` but bootstrap.min.css set `[hidden] { display: none !important; }` so we also need the `!important` here to be able to override the default hidden behavior on the sphinx rendered scikit-learn.org. See: https://github.com/scikit-learn/scikit-learn/issues/21755 */display: inline-block !important;position: relative;}#sk-container-id-1 div.sk-text-repr-fallback {display: none;}</style><div id=\"sk-container-id-1\" class=\"sk-top-container\"><div class=\"sk-text-repr-fallback\"><pre>LogisticRegression()</pre><b>In a Jupyter environment, please rerun this cell to show the HTML representation or trust the notebook. <br />On GitHub, the HTML representation is unable to render, please try loading this page with nbviewer.org.</b></div><div class=\"sk-container\" hidden><div class=\"sk-item\"><div class=\"sk-estimator sk-toggleable\"><input class=\"sk-toggleable__control sk-hidden--visually\" id=\"sk-estimator-id-1\" type=\"checkbox\" checked><label for=\"sk-estimator-id-1\" class=\"sk-toggleable__label sk-toggleable__label-arrow\">LogisticRegression</label><div class=\"sk-toggleable__content\"><pre>LogisticRegression()</pre></div></div></div></div></div>"
      ],
      "text/plain": [
       "LogisticRegression()"
      ]
     },
     "execution_count": 11,
     "metadata": {},
     "output_type": "execute_result"
    }
   ],
   "source": [
    "#Instantiate the model\n",
    "logit = LogisticRegression()\n",
    "#fit the model\n",
    "logit.fit(X_train, y_train)"
   ]
  },
  {
   "cell_type": "code",
   "execution_count": 12,
   "id": "d3a6b029",
   "metadata": {},
   "outputs": [],
   "source": [
    "#export as pickle file for model deployment\n",
    "pickle.dump(logit, open(\"model_to_deploy.pkl\", \"wb\"))"
   ]
  },
  {
   "cell_type": "markdown",
   "id": "fe6e438b",
   "metadata": {},
   "source": [
    "### Making a Viable Product"
   ]
  },
  {
   "cell_type": "markdown",
   "id": "6af67e89",
   "metadata": {},
   "source": [
    "###### The exported pickle model would be deployed using Heroku and a python app file."
   ]
  },
  {
   "cell_type": "markdown",
   "id": "80db02aa",
   "metadata": {},
   "source": [
    "### Discussion and Conclusion"
   ]
  },
  {
   "cell_type": "markdown",
   "id": "17fa1799",
   "metadata": {},
   "source": [
    ">As it turns out, medications are not a good predictor of whether or not a patient would be readmitted for diabetes-related illness. On the other hand, lifestyle choices are a good predictor of getting diabetes. There was a good correlation between income, physical activity, BMI and diabetes. \n",
    "For income, the proportion of patients who got diabetes increased as the income increased. The negative proportionality would make sense as fruits and vegetables are expensive, and people would likely opt for unhealthy food options as they are much cheaper. \n",
    "The proportion of patients that had diabetes spiked when the BMI was between 39 and 41. This makes sense, as this range of BMI indicates morbid obesity.\n",
    "Another interesting finding from the EDA is that a large proportion of patients that were readmitted for diabetes came to the hospital as an emergency, and most of them came in for blood-related illnesses.\n",
    "The first sunset of dataset 1 had the least accuracy across all the models tested, with accuracy peaking at 62% in the AdaBoost model. The accuracy still did not exceed 63% after Keras Sequential Modelling was used in the deep learning environment.\n",
    "On the other hand, the second subset of dataset1 had a much better accuracy that peaked at 76% using the Logistic Regression model. The only problem with the second subset of dataset 1 was that it had an unusually high recall rate, with some models showing over 90% recall. This can be a result of the overfitting dilemma.\n",
    "On the other hand, the second dataset had great results, with accuracy peaking at 85% with the AdaBoost model. "
   ]
  },
  {
   "cell_type": "markdown",
   "id": "d56035cc",
   "metadata": {},
   "source": [
    "### Recommendation"
   ]
  },
  {
   "cell_type": "markdown",
   "id": "44cb3001",
   "metadata": {},
   "source": [
    ">The saying 'prevention is the best medicine' holds true with regards to diabetes. The best predictors of diabetes of are the lifetsyle choices that are implemented before the onset of diabetes. Medical history say very little about the progression of diabetes. "
   ]
  },
  {
   "cell_type": "markdown",
   "id": "ebbc7358",
   "metadata": {},
   "source": [
    "#### Improvements Over Prior Works on the Same Dataset\n",
    "Much work has been done in the past on the UCI Diabetes dataset, with the accuracy peaking at 65% from researchers at the Oklahoma State University. However, I was able to improve on the accuracy and achieved an accuracy of  76.1% in the second subset of the dataset. With biological data, extrapolations are hard to make as there are too many interpersonal differences and health predictors rarely generalize, in short biology is a science of exceptions. This makes it hard to come up with strong predictors in the case of diabetes research. However, based on this project we can conclude that lifestyle choices are a good predictor of the likelihood of developing diabetes, while medical history says very little about the chances of being rehospitalization, with BMI and physical activity being the two best predictors of the incidence of diabetes. \n",
    "\n",
    "\n",
    "#### Model Deployment and Practical Use of Machine Learning Product\n",
    "The interactive web apps from the model deployment can be used by users to make preemptive predictions about their relationship with diabetes. The Logistic model of the second dataset was made into a pickle file. A python app file containing instructions on how to execute the model in a web application, and the pickle file was used to create an interactive web application using Heroku. \n",
    "\n",
    "\n",
    "#### Further Work\n",
    "From my research I noticed that there is very little data available that combines lifestyle choices with hospital data collected from patients. A dataset that includes both the patients' lifestyle choices along with the hospital data would be very useful data in building better machine learning models. This work can be improved by combining more healthcare data on diabetes, especially those with data on the lifestyle choices of people with diabetes. \n",
    "\n",
    "\n",
    "#### Reference\n",
    "https://business.okstate.edu/site-files/archive/docs/analytics/3254-2015.pdf\n",
    "\n",
    "https://www.kaggle.com/datasets/alexteboul/diabetes-health-indicators-dataset\n",
    "\n",
    "https://archive.ics.uci.edu/ml/datasets/diabetes+130-us+hospitals+for+years+1999-2008\n"
   ]
  }
 ],
 "metadata": {
  "kernelspec": {
   "display_name": "Python 3 (ipykernel)",
   "language": "python",
   "name": "python3"
  },
  "language_info": {
   "codemirror_mode": {
    "name": "ipython",
    "version": 3
   },
   "file_extension": ".py",
   "mimetype": "text/x-python",
   "name": "python",
   "nbconvert_exporter": "python",
   "pygments_lexer": "ipython3",
   "version": "3.9.13"
  }
 },
 "nbformat": 4,
 "nbformat_minor": 5
}
